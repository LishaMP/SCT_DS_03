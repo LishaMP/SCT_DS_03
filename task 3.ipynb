{
 "cells": [
  {
   "cell_type": "code",
   "execution_count": 1,
   "metadata": {},
   "outputs": [
    {
     "name": "stdout",
     "output_type": "stream",
     "text": [
      "Accuracy: 0.47\n",
      "Confusion Matrix:\n",
      " [[70 82]\n",
      " [77 71]]\n",
      "Classification Report:\n",
      "               precision    recall  f1-score   support\n",
      "\n",
      "           0       0.48      0.46      0.47       152\n",
      "           1       0.46      0.48      0.47       148\n",
      "\n",
      "    accuracy                           0.47       300\n",
      "   macro avg       0.47      0.47      0.47       300\n",
      "weighted avg       0.47      0.47      0.47       300\n",
      "\n"
     ]
    }
   ],
   "source": [
    "import pandas as pd\n",
    "import numpy as np\n",
    "from sklearn.model_selection import train_test_split\n",
    "from sklearn.preprocessing import LabelEncoder\n",
    "from sklearn.tree import DecisionTreeClassifier\n",
    "from sklearn.metrics import classification_report, confusion_matrix, accuracy_score\n",
    "\n",
    "# Step 1: Generate a synthetic dataset\n",
    "np.random.seed(42)\n",
    "\n",
    "# Simulate features\n",
    "n_samples = 1000\n",
    "data = pd.DataFrame({\n",
    "    \"age\": np.random.randint(18, 70, size=n_samples),  # Age between 18 and 70\n",
    "    \"job\": np.random.choice([\"admin.\", \"technician\", \"blue-collar\", \"retired\", \"student\"], size=n_samples),\n",
    "    \"marital\": np.random.choice([\"married\", \"single\", \"divorced\"], size=n_samples),\n",
    "    \"education\": np.random.choice([\"primary\", \"secondary\", \"tertiary\", \"unknown\"], size=n_samples),\n",
    "    \"default\": np.random.choice([\"yes\", \"no\"], size=n_samples),\n",
    "    \"balance\": np.random.randint(-2000, 5000, size=n_samples),  # Account balance\n",
    "    \"housing\": np.random.choice([\"yes\", \"no\"], size=n_samples),\n",
    "    \"loan\": np.random.choice([\"yes\", \"no\"], size=n_samples),\n",
    "    \"contact\": np.random.choice([\"cellular\", \"telephone\", \"unknown\"], size=n_samples),\n",
    "    \"day\": np.random.randint(1, 31, size=n_samples),  # Day of the month\n",
    "    \"month\": np.random.choice([\"jan\", \"feb\", \"mar\", \"apr\", \"may\", \"jun\", \"jul\", \"aug\", \"sep\", \"oct\", \"nov\", \"dec\"], size=n_samples),\n",
    "    \"duration\": np.random.randint(0, 5000, size=n_samples),  # Duration of the last call\n",
    "    \"campaign\": np.random.randint(1, 10, size=n_samples),  # Number of contacts performed\n",
    "    \"previous\": np.random.randint(0, 5, size=n_samples),  # Number of contacts performed before\n",
    "    \"poutcome\": np.random.choice([\"success\", \"failure\", \"unknown\"], size=n_samples),\n",
    "    \"y\": np.random.choice([\"yes\", \"no\"], size=n_samples)  # Target: subscribed or not\n",
    "})\n",
    "\n",
    "# Step 2: Preprocess the Data\n",
    "label_encoders = {}\n",
    "for column in data.select_dtypes(include=['object']).columns:\n",
    "    le = LabelEncoder()\n",
    "    data[column] = le.fit_transform(data[column])\n",
    "    label_encoders[column] = le\n",
    "\n",
    "# Define features and target\n",
    "X = data.drop(\"y\", axis=1)  # Features\n",
    "y = data[\"y\"]  # Target\n",
    "\n",
    "# Step 3: Split the Data\n",
    "X_train, X_test, y_train, y_test = train_test_split(X, y, test_size=0.3, random_state=42)\n",
    "\n",
    "# Step 4: Train the Decision Tree Classifier\n",
    "clf = DecisionTreeClassifier(random_state=42)\n",
    "clf.fit(X_train, y_train)\n",
    "\n",
    "# Step 5: Evaluate the Model\n",
    "y_pred = clf.predict(X_test)\n",
    "print(\"Accuracy:\", accuracy_score(y_test, y_pred))\n",
    "print(\"Confusion Matrix:\\n\", confusion_matrix(y_test, y_pred))\n",
    "print(\"Classification Report:\\n\", classification_report(y_test, y_pred))\n"
   ]
  }
 ],
 "metadata": {
  "kernelspec": {
   "display_name": "Python 3",
   "language": "python",
   "name": "python3"
  },
  "language_info": {
   "codemirror_mode": {
    "name": "ipython",
    "version": 3
   },
   "file_extension": ".py",
   "mimetype": "text/x-python",
   "name": "python",
   "nbconvert_exporter": "python",
   "pygments_lexer": "ipython3",
   "version": "3.11.9"
  }
 },
 "nbformat": 4,
 "nbformat_minor": 2
}
